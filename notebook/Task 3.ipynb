{
 "cells": [
  {
   "cell_type": "code",
   "execution_count": 1,
   "id": "7ae98cf2",
   "metadata": {},
   "outputs": [],
   "source": [
    "import sys\n",
    "import pandas as pd\n",
    "sys.path.append(\"../scripts\")\n",
    "from Eda import Eda as eda\n",
    "from sklearn.cluster import KMeans\n",
    "import seaborn as sns\n",
    "import matplotlib.pyplot as plt\n",
    "import plotly.express as px\n",
    "from sklearn.cluster import KMeans"
   ]
  },
  {
   "cell_type": "code",
   "execution_count": 2,
   "id": "655fc984",
   "metadata": {},
   "outputs": [],
   "source": [
    "data = pd.read_csv(\"../data/Week1_challenge_data_source.csv\")\n",
    "eda = eda(data)"
   ]
  },
  {
   "cell_type": "code",
   "execution_count": 3,
   "id": "74226560",
   "metadata": {},
   "outputs": [],
   "source": [
    "data = eda.convertbyte_scale(data, '(Bytes)', '(MB)', 1000000)"
   ]
  },
  {
   "cell_type": "code",
   "execution_count": 4,
   "id": "375eed6d",
   "metadata": {},
   "outputs": [],
   "source": [
    "outliers = ['Avg RTT DL (ms)', 'Avg RTT UL (ms)','TCP DL Retrans. Vol (MB)','TCP UL Retrans. Vol (MB)','Avg Bearer TP DL (kbps)','Avg Bearer TP UL (kbps)']\n",
    "data = eda.fix_outlier(data, outliers)"
   ]
  },
  {
   "cell_type": "code",
   "execution_count": 5,
   "id": "c60d9211",
   "metadata": {},
   "outputs": [],
   "source": [
    "df = pd.DataFrame()\n",
    "df['Avg RTT'] = data['Avg RTT DL (ms)'] + data['Avg RTT UL (ms)']\n",
    "df['Avg TCP'] = data['TCP DL Retrans. Vol (MB)'] + data['TCP UL Retrans. Vol (MB)']\n",
    "df['Avg TP'] = data['Avg Bearer TP DL (kbps)'] + data['Avg Bearer TP UL (kbps)']\n",
    "df['Avg TP'] = df['Avg TP']/1000\n",
    "df['Handset_type'] = data['Handset Type']\n",
    "df['MSISDN/Number'] = data['MSISDN/Number']\n",
    "\n",
    "\n",
    "num_col, cat_col = eda.col_assign(df)\n",
    "df = eda.fix_num_cols(df, num_col)\n",
    "df.dropna(inplace=True)"
   ]
  },
  {
   "cell_type": "code",
   "execution_count": 6,
   "id": "f1403d81",
   "metadata": {},
   "outputs": [
    {
     "name": "stdout",
     "output_type": "stream",
     "text": [
      "<class 'pandas.core.frame.DataFrame'>\n",
      "Int64Index: 149429 entries, 0 to 149999\n",
      "Data columns (total 5 columns):\n",
      " #   Column         Non-Null Count   Dtype  \n",
      "---  ------         --------------   -----  \n",
      " 0   Avg RTT        149429 non-null  float64\n",
      " 1   Avg TCP        149429 non-null  float64\n",
      " 2   Avg TP         149429 non-null  float64\n",
      " 3   Handset_type   149429 non-null  object \n",
      " 4   MSISDN/Number  149429 non-null  float64\n",
      "dtypes: float64(4), object(1)\n",
      "memory usage: 6.8+ MB\n"
     ]
    }
   ],
   "source": [
    "df.info()"
   ]
  },
  {
   "cell_type": "markdown",
   "id": "2c414b16",
   "metadata": {},
   "source": [
    "###### Aggregate per user\n"
   ]
  },
  {
   "cell_type": "code",
   "execution_count": 7,
   "id": "9519b54d",
   "metadata": {},
   "outputs": [],
   "source": [
    "avgrtt = df.groupby(['MSISDN/Number'],as_index=False).agg({'Avg RTT': 'sum'})"
   ]
  },
  {
   "cell_type": "code",
   "execution_count": 8,
   "id": "9cfe6d07",
   "metadata": {},
   "outputs": [
    {
     "data": {
      "text/html": [
       "<div>\n",
       "<style scoped>\n",
       "    .dataframe tbody tr th:only-of-type {\n",
       "        vertical-align: middle;\n",
       "    }\n",
       "\n",
       "    .dataframe tbody tr th {\n",
       "        vertical-align: top;\n",
       "    }\n",
       "\n",
       "    .dataframe thead th {\n",
       "        text-align: right;\n",
       "    }\n",
       "</style>\n",
       "<table border=\"1\" class=\"dataframe\">\n",
       "  <thead>\n",
       "    <tr style=\"text-align: right;\">\n",
       "      <th></th>\n",
       "      <th>MSISDN/Number</th>\n",
       "      <th>Avg RTT</th>\n",
       "    </tr>\n",
       "  </thead>\n",
       "  <tbody>\n",
       "    <tr>\n",
       "      <th>0</th>\n",
       "      <td>3.360100e+10</td>\n",
       "      <td>46.000000</td>\n",
       "    </tr>\n",
       "    <tr>\n",
       "      <th>1</th>\n",
       "      <td>3.360100e+10</td>\n",
       "      <td>31.000000</td>\n",
       "    </tr>\n",
       "    <tr>\n",
       "      <th>2</th>\n",
       "      <td>3.360100e+10</td>\n",
       "      <td>68.933860</td>\n",
       "    </tr>\n",
       "    <tr>\n",
       "      <th>3</th>\n",
       "      <td>3.360101e+10</td>\n",
       "      <td>84.000000</td>\n",
       "    </tr>\n",
       "    <tr>\n",
       "      <th>4</th>\n",
       "      <td>3.360101e+10</td>\n",
       "      <td>119.000000</td>\n",
       "    </tr>\n",
       "    <tr>\n",
       "      <th>...</th>\n",
       "      <td>...</td>\n",
       "      <td>...</td>\n",
       "    </tr>\n",
       "    <tr>\n",
       "      <th>106852</th>\n",
       "      <td>3.379000e+10</td>\n",
       "      <td>40.000000</td>\n",
       "    </tr>\n",
       "    <tr>\n",
       "      <th>106853</th>\n",
       "      <td>4.188282e+10</td>\n",
       "      <td>34999.006506</td>\n",
       "    </tr>\n",
       "    <tr>\n",
       "      <th>106854</th>\n",
       "      <td>3.197020e+12</td>\n",
       "      <td>68.933860</td>\n",
       "    </tr>\n",
       "    <tr>\n",
       "      <th>106855</th>\n",
       "      <td>3.370000e+14</td>\n",
       "      <td>68.933860</td>\n",
       "    </tr>\n",
       "    <tr>\n",
       "      <th>106856</th>\n",
       "      <td>8.823970e+14</td>\n",
       "      <td>68.933860</td>\n",
       "    </tr>\n",
       "  </tbody>\n",
       "</table>\n",
       "<p>106857 rows × 2 columns</p>\n",
       "</div>"
      ],
      "text/plain": [
       "        MSISDN/Number       Avg RTT\n",
       "0        3.360100e+10     46.000000\n",
       "1        3.360100e+10     31.000000\n",
       "2        3.360100e+10     68.933860\n",
       "3        3.360101e+10     84.000000\n",
       "4        3.360101e+10    119.000000\n",
       "...               ...           ...\n",
       "106852   3.379000e+10     40.000000\n",
       "106853   4.188282e+10  34999.006506\n",
       "106854   3.197020e+12     68.933860\n",
       "106855   3.370000e+14     68.933860\n",
       "106856   8.823970e+14     68.933860\n",
       "\n",
       "[106857 rows x 2 columns]"
      ]
     },
     "execution_count": 8,
     "metadata": {},
     "output_type": "execute_result"
    }
   ],
   "source": [
    "avgrtt"
   ]
  },
  {
   "cell_type": "code",
   "execution_count": 9,
   "id": "0e01299f",
   "metadata": {},
   "outputs": [],
   "source": [
    "avgtcp = df.groupby(['MSISDN/Number'],as_index=False).agg({'Avg TCP': 'sum'})"
   ]
  },
  {
   "cell_type": "code",
   "execution_count": 10,
   "id": "b8fd7caa",
   "metadata": {},
   "outputs": [
    {
     "data": {
      "text/html": [
       "<div>\n",
       "<style scoped>\n",
       "    .dataframe tbody tr th:only-of-type {\n",
       "        vertical-align: middle;\n",
       "    }\n",
       "\n",
       "    .dataframe tbody tr th {\n",
       "        vertical-align: top;\n",
       "    }\n",
       "\n",
       "    .dataframe thead th {\n",
       "        text-align: right;\n",
       "    }\n",
       "</style>\n",
       "<table border=\"1\" class=\"dataframe\">\n",
       "  <thead>\n",
       "    <tr style=\"text-align: right;\">\n",
       "      <th></th>\n",
       "      <th>MSISDN/Number</th>\n",
       "      <th>Avg TCP</th>\n",
       "    </tr>\n",
       "  </thead>\n",
       "  <tbody>\n",
       "    <tr>\n",
       "      <th>0</th>\n",
       "      <td>3.360100e+10</td>\n",
       "      <td>4.825495</td>\n",
       "    </tr>\n",
       "    <tr>\n",
       "      <th>1</th>\n",
       "      <td>3.360100e+10</td>\n",
       "      <td>4.825495</td>\n",
       "    </tr>\n",
       "    <tr>\n",
       "      <th>2</th>\n",
       "      <td>3.360100e+10</td>\n",
       "      <td>4.825495</td>\n",
       "    </tr>\n",
       "    <tr>\n",
       "      <th>3</th>\n",
       "      <td>3.360101e+10</td>\n",
       "      <td>4.825495</td>\n",
       "    </tr>\n",
       "    <tr>\n",
       "      <th>4</th>\n",
       "      <td>3.360101e+10</td>\n",
       "      <td>14.196495</td>\n",
       "    </tr>\n",
       "    <tr>\n",
       "      <th>...</th>\n",
       "      <td>...</td>\n",
       "      <td>...</td>\n",
       "    </tr>\n",
       "    <tr>\n",
       "      <th>106852</th>\n",
       "      <td>3.379000e+10</td>\n",
       "      <td>4.825495</td>\n",
       "    </tr>\n",
       "    <tr>\n",
       "      <th>106853</th>\n",
       "      <td>4.188282e+10</td>\n",
       "      <td>1966.489545</td>\n",
       "    </tr>\n",
       "    <tr>\n",
       "      <th>106854</th>\n",
       "      <td>3.197020e+12</td>\n",
       "      <td>4.825495</td>\n",
       "    </tr>\n",
       "    <tr>\n",
       "      <th>106855</th>\n",
       "      <td>3.370000e+14</td>\n",
       "      <td>4.825495</td>\n",
       "    </tr>\n",
       "    <tr>\n",
       "      <th>106856</th>\n",
       "      <td>8.823970e+14</td>\n",
       "      <td>4.825495</td>\n",
       "    </tr>\n",
       "  </tbody>\n",
       "</table>\n",
       "<p>106857 rows × 2 columns</p>\n",
       "</div>"
      ],
      "text/plain": [
       "        MSISDN/Number      Avg TCP\n",
       "0        3.360100e+10     4.825495\n",
       "1        3.360100e+10     4.825495\n",
       "2        3.360100e+10     4.825495\n",
       "3        3.360101e+10     4.825495\n",
       "4        3.360101e+10    14.196495\n",
       "...               ...          ...\n",
       "106852   3.379000e+10     4.825495\n",
       "106853   4.188282e+10  1966.489545\n",
       "106854   3.197020e+12     4.825495\n",
       "106855   3.370000e+14     4.825495\n",
       "106856   8.823970e+14     4.825495\n",
       "\n",
       "[106857 rows x 2 columns]"
      ]
     },
     "execution_count": 10,
     "metadata": {},
     "output_type": "execute_result"
    }
   ],
   "source": [
    "avgtcp"
   ]
  },
  {
   "cell_type": "code",
   "execution_count": 11,
   "id": "a3781eaa",
   "metadata": {},
   "outputs": [],
   "source": [
    "avghandset = df.groupby(['MSISDN/Number'],as_index=False).agg({'Handset_type': 'count'})"
   ]
  },
  {
   "cell_type": "code",
   "execution_count": 12,
   "id": "982ec507",
   "metadata": {},
   "outputs": [
    {
     "data": {
      "text/html": [
       "<div>\n",
       "<style scoped>\n",
       "    .dataframe tbody tr th:only-of-type {\n",
       "        vertical-align: middle;\n",
       "    }\n",
       "\n",
       "    .dataframe tbody tr th {\n",
       "        vertical-align: top;\n",
       "    }\n",
       "\n",
       "    .dataframe thead th {\n",
       "        text-align: right;\n",
       "    }\n",
       "</style>\n",
       "<table border=\"1\" class=\"dataframe\">\n",
       "  <thead>\n",
       "    <tr style=\"text-align: right;\">\n",
       "      <th></th>\n",
       "      <th>MSISDN/Number</th>\n",
       "      <th>Handset_type</th>\n",
       "    </tr>\n",
       "  </thead>\n",
       "  <tbody>\n",
       "    <tr>\n",
       "      <th>0</th>\n",
       "      <td>3.360100e+10</td>\n",
       "      <td>1</td>\n",
       "    </tr>\n",
       "    <tr>\n",
       "      <th>1</th>\n",
       "      <td>3.360100e+10</td>\n",
       "      <td>1</td>\n",
       "    </tr>\n",
       "    <tr>\n",
       "      <th>2</th>\n",
       "      <td>3.360100e+10</td>\n",
       "      <td>1</td>\n",
       "    </tr>\n",
       "    <tr>\n",
       "      <th>3</th>\n",
       "      <td>3.360101e+10</td>\n",
       "      <td>1</td>\n",
       "    </tr>\n",
       "    <tr>\n",
       "      <th>4</th>\n",
       "      <td>3.360101e+10</td>\n",
       "      <td>2</td>\n",
       "    </tr>\n",
       "    <tr>\n",
       "      <th>...</th>\n",
       "      <td>...</td>\n",
       "      <td>...</td>\n",
       "    </tr>\n",
       "    <tr>\n",
       "      <th>106852</th>\n",
       "      <td>3.379000e+10</td>\n",
       "      <td>1</td>\n",
       "    </tr>\n",
       "    <tr>\n",
       "      <th>106853</th>\n",
       "      <td>4.188282e+10</td>\n",
       "      <td>494</td>\n",
       "    </tr>\n",
       "    <tr>\n",
       "      <th>106854</th>\n",
       "      <td>3.197020e+12</td>\n",
       "      <td>1</td>\n",
       "    </tr>\n",
       "    <tr>\n",
       "      <th>106855</th>\n",
       "      <td>3.370000e+14</td>\n",
       "      <td>1</td>\n",
       "    </tr>\n",
       "    <tr>\n",
       "      <th>106856</th>\n",
       "      <td>8.823970e+14</td>\n",
       "      <td>1</td>\n",
       "    </tr>\n",
       "  </tbody>\n",
       "</table>\n",
       "<p>106857 rows × 2 columns</p>\n",
       "</div>"
      ],
      "text/plain": [
       "        MSISDN/Number  Handset_type\n",
       "0        3.360100e+10             1\n",
       "1        3.360100e+10             1\n",
       "2        3.360100e+10             1\n",
       "3        3.360101e+10             1\n",
       "4        3.360101e+10             2\n",
       "...               ...           ...\n",
       "106852   3.379000e+10             1\n",
       "106853   4.188282e+10           494\n",
       "106854   3.197020e+12             1\n",
       "106855   3.370000e+14             1\n",
       "106856   8.823970e+14             1\n",
       "\n",
       "[106857 rows x 2 columns]"
      ]
     },
     "execution_count": 12,
     "metadata": {},
     "output_type": "execute_result"
    }
   ],
   "source": [
    "avghandset"
   ]
  },
  {
   "cell_type": "code",
   "execution_count": 13,
   "id": "e946e932",
   "metadata": {},
   "outputs": [],
   "source": [
    "avgtp = df.groupby(['MSISDN/Number'], as_index=False).agg({'Avg TP' : 'sum'})"
   ]
  },
  {
   "cell_type": "code",
   "execution_count": 14,
   "id": "7b343edb",
   "metadata": {},
   "outputs": [
    {
     "data": {
      "text/html": [
       "<div>\n",
       "<style scoped>\n",
       "    .dataframe tbody tr th:only-of-type {\n",
       "        vertical-align: middle;\n",
       "    }\n",
       "\n",
       "    .dataframe tbody tr th {\n",
       "        vertical-align: top;\n",
       "    }\n",
       "\n",
       "    .dataframe thead th {\n",
       "        text-align: right;\n",
       "    }\n",
       "</style>\n",
       "<table border=\"1\" class=\"dataframe\">\n",
       "  <thead>\n",
       "    <tr style=\"text-align: right;\">\n",
       "      <th></th>\n",
       "      <th>MSISDN/Number</th>\n",
       "      <th>Avg TP</th>\n",
       "    </tr>\n",
       "  </thead>\n",
       "  <tbody>\n",
       "    <tr>\n",
       "      <th>0</th>\n",
       "      <td>3.360100e+10</td>\n",
       "      <td>0.076000</td>\n",
       "    </tr>\n",
       "    <tr>\n",
       "      <th>1</th>\n",
       "      <td>3.360100e+10</td>\n",
       "      <td>0.099000</td>\n",
       "    </tr>\n",
       "    <tr>\n",
       "      <th>2</th>\n",
       "      <td>3.360100e+10</td>\n",
       "      <td>0.097000</td>\n",
       "    </tr>\n",
       "    <tr>\n",
       "      <th>3</th>\n",
       "      <td>3.360101e+10</td>\n",
       "      <td>0.248000</td>\n",
       "    </tr>\n",
       "    <tr>\n",
       "      <th>4</th>\n",
       "      <td>3.360101e+10</td>\n",
       "      <td>42.205429</td>\n",
       "    </tr>\n",
       "    <tr>\n",
       "      <th>...</th>\n",
       "      <td>...</td>\n",
       "      <td>...</td>\n",
       "    </tr>\n",
       "    <tr>\n",
       "      <th>106852</th>\n",
       "      <td>3.379000e+10</td>\n",
       "      <td>0.116000</td>\n",
       "    </tr>\n",
       "    <tr>\n",
       "      <th>106853</th>\n",
       "      <td>4.188282e+10</td>\n",
       "      <td>7977.913277</td>\n",
       "    </tr>\n",
       "    <tr>\n",
       "      <th>106854</th>\n",
       "      <td>3.197020e+12</td>\n",
       "      <td>0.001000</td>\n",
       "    </tr>\n",
       "    <tr>\n",
       "      <th>106855</th>\n",
       "      <td>3.370000e+14</td>\n",
       "      <td>0.033000</td>\n",
       "    </tr>\n",
       "    <tr>\n",
       "      <th>106856</th>\n",
       "      <td>8.823970e+14</td>\n",
       "      <td>0.002000</td>\n",
       "    </tr>\n",
       "  </tbody>\n",
       "</table>\n",
       "<p>106857 rows × 2 columns</p>\n",
       "</div>"
      ],
      "text/plain": [
       "        MSISDN/Number       Avg TP\n",
       "0        3.360100e+10     0.076000\n",
       "1        3.360100e+10     0.099000\n",
       "2        3.360100e+10     0.097000\n",
       "3        3.360101e+10     0.248000\n",
       "4        3.360101e+10    42.205429\n",
       "...               ...          ...\n",
       "106852   3.379000e+10     0.116000\n",
       "106853   4.188282e+10  7977.913277\n",
       "106854   3.197020e+12     0.001000\n",
       "106855   3.370000e+14     0.033000\n",
       "106856   8.823970e+14     0.002000\n",
       "\n",
       "[106857 rows x 2 columns]"
      ]
     },
     "execution_count": 14,
     "metadata": {},
     "output_type": "execute_result"
    }
   ],
   "source": [
    "avgtp"
   ]
  },
  {
   "cell_type": "markdown",
   "id": "9765fa7d",
   "metadata": {},
   "source": [
    "#### Compute and list 10 of the top, bottom and most frequent"
   ]
  },
  {
   "cell_type": "code",
   "execution_count": 15,
   "id": "b119f105",
   "metadata": {},
   "outputs": [
    {
     "name": "stdout",
     "output_type": "stream",
     "text": [
      "For Avg TCP\n",
      "HEAD\n",
      "0    4.825495\n",
      "1    4.825495\n",
      "2    4.825495\n",
      "3    4.825495\n",
      "4    4.825495\n",
      "5    4.825495\n",
      "6    4.825495\n",
      "7    4.825495\n",
      "8    4.825495\n",
      "9    3.238000\n",
      "Name: Avg TCP, dtype: float64\n",
      "TAIL\n",
      "149990     0.005000\n",
      "149991     4.825495\n",
      "149992     4.825495\n",
      "149993     4.825495\n",
      "149994     4.825495\n",
      "149995    16.716000\n",
      "149996     4.825495\n",
      "149997     4.825495\n",
      "149998     4.825495\n",
      "149999     4.825495\n",
      "Name: Avg TCP, dtype: float64\n",
      "For Avg RTT\n",
      "HEAD\n",
      "0     47.00000\n",
      "1     70.00000\n",
      "2     68.93386\n",
      "3     68.93386\n",
      "4     68.93386\n",
      "5     68.93386\n",
      "6    107.00000\n",
      "7     57.00000\n",
      "8     68.93386\n",
      "9    104.00000\n",
      "Name: Avg RTT, dtype: float64\n",
      "TAIL\n",
      "149990     58.000000\n",
      "149991     29.000000\n",
      "149992     41.000000\n",
      "149993     52.000000\n",
      "149994     68.933860\n",
      "149995    118.795706\n",
      "149996     32.000000\n",
      "149997     29.000000\n",
      "149998     49.000000\n",
      "149999     42.000000\n",
      "Name: Avg RTT, dtype: float64\n",
      "For Avg TP\n",
      "HEAD\n",
      "0    0.067\n",
      "1    0.042\n",
      "2    0.015\n",
      "3    0.088\n",
      "4    0.015\n",
      "5    0.124\n",
      "6    0.060\n",
      "7    4.114\n",
      "8    0.095\n",
      "9    6.380\n",
      "Name: Avg TP, dtype: float64\n",
      "TAIL\n",
      "149990    32.511429\n",
      "149991     0.116000\n",
      "149992     0.063000\n",
      "149993     0.084000\n",
      "149994     0.109000\n",
      "149995    14.693046\n",
      "149996     0.117000\n",
      "149997     0.077000\n",
      "149998     0.090000\n",
      "149999     0.071000\n",
      "Name: Avg TP, dtype: float64\n"
     ]
    }
   ],
   "source": [
    "lists = ['Avg TCP', 'Avg RTT', 'Avg TP']\n",
    "eda.head_tail(df, lists, 10)"
   ]
  },
  {
   "cell_type": "code",
   "execution_count": 16,
   "id": "f1c4094c",
   "metadata": {},
   "outputs": [
    {
     "name": "stdout",
     "output_type": "stream",
     "text": [
      "4.825495     99269\n",
      "21.569553      696\n",
      "0.005000       355\n",
      "0.002000       353\n",
      "0.004000       331\n",
      "0.003000       311\n",
      "0.001000       307\n",
      "0.006000       302\n",
      "0.008000       272\n",
      "0.007000       250\n",
      "Name: Avg TCP, dtype: int64\n",
      "68.93386    27703\n",
      "29.00000     4992\n",
      "39.00000     4218\n",
      "38.00000     2760\n",
      "40.00000     2646\n",
      "30.00000     2592\n",
      "28.00000     2424\n",
      "49.00000     2216\n",
      "41.00000     1973\n",
      "31.00000     1957\n",
      "Name: Avg RTT, dtype: int64\n",
      "0.063000     3886\n",
      "0.015000     3701\n",
      "15.070475    2319\n",
      "0.097000     1945\n",
      "0.090000     1882\n",
      "0.098000     1800\n",
      "0.096000     1671\n",
      "0.099000     1570\n",
      "0.089000     1556\n",
      "0.091000     1517\n",
      "Name: Avg TP, dtype: int64\n"
     ]
    }
   ],
   "source": [
    "for i in lists:\n",
    "    print(df[i].value_counts().nlargest(10))"
   ]
  },
  {
   "cell_type": "code",
   "execution_count": 17,
   "id": "f7b409ab",
   "metadata": {},
   "outputs": [],
   "source": [
    "import seaborn as sns"
   ]
  },
  {
   "cell_type": "code",
   "execution_count": null,
   "id": "c355540a",
   "metadata": {},
   "outputs": [],
   "source": []
  },
  {
   "cell_type": "code",
   "execution_count": null,
   "id": "e2680a46",
   "metadata": {},
   "outputs": [],
   "source": []
  },
  {
   "cell_type": "code",
   "execution_count": 18,
   "id": "7c97af88",
   "metadata": {},
   "outputs": [],
   "source": [
    "df['Avg_TP_per_handset'] = df.groupby('Handset_type')['Avg TP'].transform('sum')"
   ]
  },
  {
   "cell_type": "code",
   "execution_count": 19,
   "id": "b90c5851",
   "metadata": {},
   "outputs": [
    {
     "data": {
      "text/plain": [
       "0         23901.116973\n",
       "1         13456.886104\n",
       "2         18073.543233\n",
       "3         59533.710558\n",
       "4          1523.264566\n",
       "              ...     \n",
       "149995    59533.710558\n",
       "149996    20022.171970\n",
       "149997    25560.462990\n",
       "149998     8815.261170\n",
       "149999     5299.624103\n",
       "Name: Avg_TP_per_handset, Length: 149429, dtype: float64"
      ]
     },
     "execution_count": 19,
     "metadata": {},
     "output_type": "execute_result"
    }
   ],
   "source": [
    "df['Avg_TP_per_handset']"
   ]
  },
  {
   "cell_type": "code",
   "execution_count": 20,
   "id": "eea685c3",
   "metadata": {},
   "outputs": [
    {
     "data": {
      "image/png": "[encoded data removed]",
      "text/plain": [
       "<Figure size 432x288 with 1 Axes>"
      ]
     },
     "metadata": {
      "needs_background": "light"
     },
     "output_type": "display_data"
    }
   ],
   "source": [
    "sns.kdeplot(data=df, x='Avg_TP_per_handset')\n",
    "plt.show()"
   ]
  },
  {
   "cell_type": "code",
   "execution_count": 21,
   "id": "e04d1a03",
   "metadata": {},
   "outputs": [],
   "source": [
    "df['Avg_TP_per_handset'] = df.groupby('Handset_type')['Avg TCP'].transform('sum')"
   ]
  },
  {
   "cell_type": "code",
   "execution_count": 22,
   "id": "7cc44fe1",
   "metadata": {},
   "outputs": [
    {
     "data": {
      "image/png": "[encoded data removed]",
      "text/plain": [
       "<Figure size 432x288 with 1 Axes>"
      ]
     },
     "metadata": {
      "needs_background": "light"
     },
     "output_type": "display_data"
    }
   ],
   "source": [
    "sns.kdeplot(data=df, x='Avg_TP_per_handset')\n",
    "plt.show()"
   ]
  },
  {
   "cell_type": "markdown",
   "id": "970fca9b",
   "metadata": {},
   "source": [
    "Task 3.4"
   ]
  },
  {
   "cell_type": "code",
   "execution_count": 23,
   "id": "120d5477",
   "metadata": {},
   "outputs": [],
   "source": [
    "dfs = pd.DataFrame()\n",
    "dfs['Avg TP'] = df['Avg TP']\n",
    "dfs['Avg TCP'] = df['Avg TCP']\n",
    "dfs['Avg RTT'] = df['Avg RTT']"
   ]
  },
  {
   "cell_type": "code",
   "execution_count": 25,
   "id": "5a9f3016",
   "metadata": {},
   "outputs": [
    {
     "data": {
      "text/plain": [
       "array([0, 0, 0, ..., 0, 0, 0])"
      ]
     },
     "execution_count": 25,
     "metadata": {},
     "output_type": "execute_result"
    }
   ],
   "source": [
    "km = KMeans(n_clusters=3,)\n",
    "prediction = km.fit_predict(df[['Avg TP', 'Avg TCP', 'Avg RTT']])\n",
    "prediction"
   ]
  },
  {
   "cell_type": "code",
   "execution_count": 27,
   "id": "d3f6a47f",
   "metadata": {},
   "outputs": [
    {
     "name": "stdout",
     "output_type": "stream",
     "text": [
      "For Cluster 0\n",
      "             Avg RTT        Avg TCP         Avg TP  MSISDN/Number  \\\n",
      "count  113286.000000  113286.000000  113286.000000   1.132860e+05   \n",
      "mean       50.765021       4.372454       6.008265   4.449262e+10   \n",
      "std        17.029941       2.423114      12.929062   2.806225e+12   \n",
      "min         0.000000       0.000000       0.000000   3.360100e+10   \n",
      "25%        37.000000       4.825495       0.084000   3.365048e+10   \n",
      "50%        51.000000       4.825495       0.105000   3.366352e+10   \n",
      "75%        68.933860       4.825495       2.098000   3.368358e+10   \n",
      "max        84.000000      39.022000      72.416000   8.823970e+14   \n",
      "\n",
      "       Avg_TP_per_handset   cluster  \n",
      "count       113286.000000  113286.0  \n",
      "mean         22971.371488       0.0  \n",
      "std          28097.753443       0.0  \n",
      "min              0.000000       0.0  \n",
      "25%           5883.683261       0.0  \n",
      "50%          16601.630061       0.0  \n",
      "75%          28293.724369       0.0  \n",
      "max         150813.080565       0.0  \n",
      "For Cluster 1\n",
      "           Avg RTT      Avg TCP       Avg TP  MSISDN/Number  \\\n",
      "count  6653.000000  6653.000000  6653.000000   6.653000e+03   \n",
      "mean    206.945449     7.145887    19.375355   3.369998e+10   \n",
      "std      37.191335     8.415743    16.541213   4.400109e+08   \n",
      "min     155.795706     0.000000     0.001000   3.360102e+10   \n",
      "25%     174.662883     0.956000     4.768000   3.365886e+10   \n",
      "50%     200.000000     4.825495    16.036000   3.366412e+10   \n",
      "75%     234.000000     9.108000    29.889000   3.368282e+10   \n",
      "max     320.000000    39.485000    70.898000   4.188282e+10   \n",
      "\n",
      "       Avg_TP_per_handset  cluster  \n",
      "count         6653.000000   6653.0  \n",
      "mean         59677.164598      1.0  \n",
      "std          67077.359286      0.0  \n",
      "min              0.003000      1.0  \n",
      "25%           1443.388693      1.0  \n",
      "50%          17087.521179      1.0  \n",
      "75%         150813.080565      1.0  \n",
      "max         150813.080565      1.0  \n",
      "For Cluster 2\n",
      "            Avg RTT       Avg TCP        Avg TP  MSISDN/Number  \\\n",
      "count  29490.000000  29490.000000  29490.000000   2.949000e+04   \n",
      "mean     106.850721      6.061013     25.542031   3.370331e+10   \n",
      "std       21.551321      7.563345     19.073973   4.545580e+08   \n",
      "min       60.000000      0.000000      0.000000   3.360101e+10   \n",
      "25%       89.000000      0.807000      8.963000   3.365910e+10   \n",
      "50%      107.000000      3.825822     23.318000   3.366457e+10   \n",
      "75%      122.000000      6.448750     40.506500   3.368808e+10   \n",
      "max      159.000000     39.536643     72.459000   4.188282e+10   \n",
      "\n",
      "       Avg_TP_per_handset  cluster  \n",
      "count        29490.000000  29490.0  \n",
      "mean         76929.272287      2.0  \n",
      "std          68628.212162      0.0  \n",
      "min              0.000000      2.0  \n",
      "25%           8518.780280      2.0  \n",
      "50%          40900.420511      2.0  \n",
      "75%         150813.080565      2.0  \n",
      "max         150813.080565      2.0  \n"
     ]
    }
   ],
   "source": [
    "df['cluster'] = prediction \n",
    "\n",
    "df1 = df[df.cluster==0]\n",
    "df2 = df[df.cluster==1]\n",
    "df3 = df[df.cluster==2]\n",
    "print('For Cluster 0')\n",
    "\n",
    "print(df1.describe())\n",
    "print('For Cluster 1')\n",
    "\n",
    "print(df2.describe())\n",
    "print('For Cluster 2')\n",
    "\n",
    "print(df3.describe())"
   ]
  },
  {
   "cell_type": "code",
   "execution_count": null,
   "id": "b097cba5",
   "metadata": {},
   "outputs": [],
   "source": []
  }
 ],
 "metadata": {
  "kernelspec": {
   "display_name": "Python 3 (ipykernel)",
   "language": "python",
   "name": "python3"
  },
  "language_info": {
   "codemirror_mode": {
    "name": "ipython",
    "version": 3
   },
   "file_extension": ".py",
   "mimetype": "text/x-python",
   "name": "python",
   "nbconvert_exporter": "python",
   "pygments_lexer": "ipython3",
   "version": "3.10.4"
  }
 },
 "nbformat": 4,
 "nbformat_minor": 5
}
