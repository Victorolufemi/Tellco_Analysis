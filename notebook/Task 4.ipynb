{
 "cells": [
  {
   "cell_type": "code",
   "execution_count": 45,
   "id": "fe58587b",
   "metadata": {},
   "outputs": [],
   "source": [
    "import sys\n",
    "import pandas as pd\n",
    "from sklearn.preprocessing import MinMaxScaler\n",
    "sys.path.append(\"../scripts\")\n",
    "from Eda import Eda as eda\n",
    "from sklearn.cluster import KMeans\n",
    "import seaborn as sns\n",
    "import matplotlib.pyplot as plt\n",
    "import plotly.express as px\n",
    "from sklearn.cluster import KMeans"
   ]
  },
  {
   "cell_type": "code",
   "execution_count": 2,
   "id": "ebdb1c5d",
   "metadata": {},
   "outputs": [],
   "source": [
    "data = pd.read_csv(\"../data/Week1_challenge_data_source.csv\")\n",
    "eda = eda(data)\n",
    "data = eda.convertbyte_scale(data, '(Bytes)', '(MB)', 1000000)"
   ]
  },
  {
   "cell_type": "code",
   "execution_count": 3,
   "id": "80978e9f",
   "metadata": {},
   "outputs": [],
   "source": [
    "df = pd.DataFrame()"
   ]
  },
  {
   "cell_type": "code",
   "execution_count": 8,
   "id": "70af451c",
   "metadata": {},
   "outputs": [],
   "source": [
    "df = pd.DataFrame()\n",
    "datas = pd.DataFrame()\n",
    "df['Avg RTT'] = data['Avg RTT DL (ms)'] + data['Avg RTT UL (ms)']\n",
    "df['Avg TCP'] = data['TCP DL Retrans. Vol (MB)'] + data['TCP UL Retrans. Vol (MB)']\n",
    "df['Avg TP'] = data['Avg Bearer TP DL (kbps)'] + data['Avg Bearer TP UL (kbps)']\n",
    "df['Avg TP'] = df['Avg TP']/1000\n",
    "data['Session frequency'] = data.groupby(['Bearer Id'])['Dur. (ms)'].transform('count')\n",
    "datas['Session frequency'] = data['Session frequency']\n",
    "data['Total_Data_Volume(MB)'] = data['Total DL (MB)'] + data['Total UL (MB)']\n",
    "datas[\"Total_Data\"] = data['Total_Data_Volume(MB)']\n",
    "datas['Dur. (s)'] = data['Dur. (ms)']/1000\n",
    "datas['MSISDN/Number'] = data['MSISDN/Number']\n",
    "datas['Handset_type'] = data['Handset Type']\n",
    "datas['MSISDN/Number'] = data['MSISDN/Number']\n",
    "\n",
    "\n",
    "num_col, cat_col = eda.col_assign(df)\n",
    "df = eda.fix_num_cols(df, num_col)\n",
    "outliers = ['Avg RTT','Avg TCP','Avg TP']\n",
    "df = eda.fix_outlier(df, outliers)\n",
    "df.dropna(inplace=True)\n",
    "datas.dropna(inplace=True)"
   ]
  },
  {
   "cell_type": "code",
   "execution_count": 9,
   "id": "6f4b7fde",
   "metadata": {},
   "outputs": [
    {
     "name": "stdout",
     "output_type": "stream",
     "text": [
      "For Cluster 0\n",
      "            Avg RTT       Avg TCP        Avg TP  cluster\n",
      "count  86949.000000  86949.000000  86949.000000  86949.0\n",
      "mean      45.866542     19.816147      9.425343      0.0\n",
      "std       16.541905     10.472051     16.636066      0.0\n",
      "min        0.000000      0.000000      0.001000      0.0\n",
      "25%       32.000000     25.716954      0.090000      0.0\n",
      "50%       43.000000     25.716954      0.116000      0.0\n",
      "75%       58.000000     25.716954     15.070475      0.0\n",
      "max       84.000000     25.716954     71.093000      0.0\n",
      "For Cluster 1\n",
      "            Avg RTT       Avg TCP        Avg TP  cluster\n",
      "count  56283.000000  56283.000000  56283.000000  56283.0\n",
      "mean     121.746836     18.104664     11.760849      1.0\n",
      "std       15.091781     10.810342     18.169687      0.0\n",
      "min       82.000000      0.000000      0.000000      1.0\n",
      "25%      122.000000      4.592500      0.087000      1.0\n",
      "50%      127.024885     25.716954      0.126000      1.0\n",
      "75%      127.024885     25.716954     18.495000      1.0\n",
      "max      167.000000     25.716954     71.076000      1.0\n",
      "For Cluster 2\n",
      "           Avg RTT      Avg TCP       Avg TP  cluster\n",
      "count  6769.000000  6769.000000  6769.000000   6769.0\n",
      "mean    207.495051    10.763190    22.200903      2.0\n",
      "std      30.909055    10.887310    18.511762      0.0\n",
      "min     158.000000     0.000000     0.001000      2.0\n",
      "25%     181.000000     0.805000     6.529000      2.0\n",
      "50%     203.000000     5.120000    17.688000      2.0\n",
      "75%     231.000000    25.716954    34.214000      2.0\n",
      "max     273.000000    25.716954    71.074000      2.0\n"
     ]
    }
   ],
   "source": [
    "km = KMeans(n_clusters=3,)\n",
    "prediction = km.fit_predict(df[['Avg TP', 'Avg TCP', 'Avg RTT']])\n",
    "df['cluster'] = prediction \n",
    "\n",
    "df1 = df[df.cluster==0]\n",
    "df2 = df[df.cluster==1]\n",
    "df3 = df[df.cluster==2]\n",
    "print('For Cluster 0')\n",
    "\n",
    "print(df1.describe())\n",
    "print('For Cluster 1')\n",
    "\n",
    "print(df2.describe())\n",
    "print('For Cluster 2')\n",
    "\n",
    "print(df3.describe())"
   ]
  },
  {
   "cell_type": "code",
   "execution_count": 10,
   "id": "ed93292c",
   "metadata": {},
   "outputs": [
    {
     "data": {
      "text/plain": [
       "0    86949\n",
       "1    56283\n",
       "2     6769\n",
       "Name: cluster, dtype: int64"
      ]
     },
     "execution_count": 10,
     "metadata": {},
     "output_type": "execute_result"
    }
   ],
   "source": [
    "df['cluster'].value_counts()"
   ]
  },
  {
   "cell_type": "code",
   "execution_count": 11,
   "id": "b061b540",
   "metadata": {},
   "outputs": [
    {
     "data": {
      "text/plain": [
       "array([0, 0, 0, ..., 0, 0, 0])"
      ]
     },
     "execution_count": 11,
     "metadata": {},
     "output_type": "execute_result"
    }
   ],
   "source": [
    "predictions = km.fit_predict(datas[['Total_Data', 'Dur. (s)', 'Session frequency']])\n",
    "predictions"
   ]
  },
  {
   "cell_type": "code",
   "execution_count": 15,
   "id": "aef15d97",
   "metadata": {},
   "outputs": [
    {
     "name": "stdout",
     "output_type": "stream",
     "text": [
      "For Cluster 0\n",
      "       Session frequency     Total_Data       Dur. (s)  MSISDN/Number  \\\n",
      "count      112176.000000  112176.000000  112176.000000   1.121760e+05   \n",
      "mean        37528.746327     495.635803     115.815487   3.667854e+10   \n",
      "std          1968.110040     244.402764      84.987232   1.006089e+12   \n",
      "min         35114.000000      28.956000       7.142000   3.360100e+10   \n",
      "25%         35114.000000     284.784250      75.496500   3.365097e+10   \n",
      "50%         37251.000000     496.677000      92.701000   3.366366e+10   \n",
      "75%         39915.000000     706.413000     147.673500   3.368369e+10   \n",
      "max         39915.000000     955.985000    1859.336000   3.370000e+14   \n",
      "\n",
      "        cluster  \n",
      "count  112176.0  \n",
      "mean        0.0  \n",
      "std         0.0  \n",
      "min         0.0  \n",
      "25%         0.0  \n",
      "50%         0.0  \n",
      "75%         0.0  \n",
      "max         0.0  \n",
      "For Cluster 1\n",
      "       Session frequency   Total_Data     Dur. (s)  MSISDN/Number  cluster\n",
      "count        7050.000000  7050.000000  7050.000000   7.050000e+03   7050.0\n",
      "mean         5050.258440   497.427695    55.774831   3.367161e+10      1.0\n",
      "std          1874.572046   242.628296    32.550602   4.386154e+07      0.0\n",
      "min             1.000000    49.379000     7.146000   3.360103e+10      1.0\n",
      "25%          5886.000000   289.338000    26.094250   3.365052e+10      1.0\n",
      "50%          5886.000000   501.672000    53.430000   3.366343e+10      1.0\n",
      "75%          5886.000000   703.778250    86.323750   3.368006e+10      1.0\n",
      "max          5886.000000   946.486000   355.758000   3.378978e+10      1.0\n",
      "For Cluster 2\n",
      "       Session frequency    Total_Data      Dur. (s)  MSISDN/Number  cluster\n",
      "count            29280.0  29280.000000  29280.000000   2.928000e+04  29280.0\n",
      "mean             29667.0    495.952970     75.842965   6.391857e+10      2.0\n",
      "std                  0.0    244.894897     59.400001   5.156614e+12      0.0\n",
      "min              29667.0     33.249000      7.284000   3.360101e+10      2.0\n",
      "25%              29667.0    282.605250     36.486750   3.365818e+10      2.0\n",
      "50%              29667.0    496.590500     86.356000   3.366396e+10      2.0\n",
      "75%              29667.0    707.572500     86.399000   3.368408e+10      2.0\n",
      "max              29667.0    949.292000   1328.732000   8.823970e+14      2.0\n"
     ]
    }
   ],
   "source": [
    "\n",
    "datas['cluster'] = predictions\n",
    "\n",
    "dfs = datas[datas.cluster==0]\n",
    "dfs1 = datas[datas.cluster==1]\n",
    "dfs2 = datas[datas.cluster==2]\n",
    "print('For Cluster 0')\n",
    "print(dfs.describe())\n",
    "\n",
    "print('For Cluster 1')\n",
    "print(dfs1.describe())\n",
    "\n",
    "print('For Cluster 2')\n",
    "print(dfs2.describe())"
   ]
  },
  {
   "cell_type": "code",
   "execution_count": null,
   "id": "096c138a",
   "metadata": {},
   "outputs": [],
   "source": []
  },
  {
   "cell_type": "code",
   "execution_count": 25,
   "id": "f986ebed",
   "metadata": {},
   "outputs": [
    {
     "name": "stdout",
     "output_type": "stream",
     "text": [
      "<class 'pandas.core.frame.DataFrame'>\n",
      "Int64Index: 148506 entries, 0 to 149999\n",
      "Data columns (total 7 columns):\n",
      " #   Column             Non-Null Count   Dtype  \n",
      "---  ------             --------------   -----  \n",
      " 0   Session frequency  148506 non-null  float64\n",
      " 1   Total_Data         148506 non-null  float64\n",
      " 2   Dur. (s)           148506 non-null  float64\n",
      " 3   MSISDN/Number      148506 non-null  float64\n",
      " 4   Handset_type       148506 non-null  object \n",
      " 5   cluster            148506 non-null  int32  \n",
      " 6   Engagement_score   7050 non-null    float64\n",
      "dtypes: float64(5), int32(1), object(1)\n",
      "memory usage: 12.5+ MB\n"
     ]
    }
   ],
   "source": [
    "datas.info()"
   ]
  },
  {
   "cell_type": "code",
   "execution_count": 14,
   "id": "ec40f6ef",
   "metadata": {},
   "outputs": [],
   "source": [
    "import numpy as np"
   ]
  },
  {
   "cell_type": "code",
   "execution_count": 18,
   "id": "dc450065",
   "metadata": {},
   "outputs": [
    {
     "name": "stderr",
     "output_type": "stream",
     "text": [
      "C:\\Users\\Victor Olufemi\\AppData\\Local\\Temp\\ipykernel_16124\\2317214630.py:1: SettingWithCopyWarning: \n",
      "A value is trying to be set on a copy of a slice from a DataFrame.\n",
      "Try using .loc[row_indexer,col_indexer] = value instead\n",
      "\n",
      "See the caveats in the documentation: https://pandas.pydata.org/pandas-docs/stable/user_guide/indexing.html#returning-a-view-versus-a-copy\n",
      "  df3['Experience_score'] =np.sqrt(((df3['Avg RTT'] +df3['Avg TCP'] + df3['Avg TP']).pow(2)) - (df3['cluster'].pow(2)))\n"
     ]
    }
   ],
   "source": [
    "df3['Experience_score'] =np.sqrt(((df3['Avg RTT'] +df3['Avg TCP'] + df3['Avg TP']).pow(2)) - (df3['cluster'].pow(2)))"
   ]
  },
  {
   "cell_type": "code",
   "execution_count": 26,
   "id": "d448cb75",
   "metadata": {},
   "outputs": [
    {
     "name": "stderr",
     "output_type": "stream",
     "text": [
      "C:\\Users\\Victor Olufemi\\AppData\\Local\\Temp\\ipykernel_16124\\1008134268.py:1: SettingWithCopyWarning: \n",
      "A value is trying to be set on a copy of a slice from a DataFrame.\n",
      "Try using .loc[row_indexer,col_indexer] = value instead\n",
      "\n",
      "See the caveats in the documentation: https://pandas.pydata.org/pandas-docs/stable/user_guide/indexing.html#returning-a-view-versus-a-copy\n",
      "  dfs1['Engagement_score'] =np.sqrt(((dfs1['Total_Data'] +dfs1['Dur. (s)'] + dfs1['Session frequency']).pow(2)) - (dfs1['cluster'].pow(2)))\n"
     ]
    }
   ],
   "source": [
    "dfs1['Engagement_score'] =np.sqrt(((dfs1['Total_Data'] +dfs1['Dur. (s)'] + dfs1['Session frequency']).pow(2)) - (dfs1['cluster'].pow(2)))"
   ]
  },
  {
   "cell_type": "code",
   "execution_count": 46,
   "id": "34475f9d",
   "metadata": {},
   "outputs": [],
   "source": [
    "df_data = pd.concat([df3, dfs1], axis=1,join='inner')\n",
    "def minmax_scale(datas, col_names):\n",
    "    scaler = MinMaxScaler(feature_range=(0, 1))\n",
    "    datas[col_names] = scaler.fit_transform(datas[col_names])\n",
    "minmax_scale(df_data, ['Engagement_score', 'Experience_score'])"
   ]
  },
  {
   "cell_type": "code",
   "execution_count": 47,
   "id": "315ab521",
   "metadata": {},
   "outputs": [],
   "source": [
    "df_data['Satisfactory_score']= (df_data['Experience_score']+ df_data['Engagement_score'])/2"
   ]
  },
  {
   "cell_type": "code",
   "execution_count": 48,
   "id": "ad5485ce",
   "metadata": {},
   "outputs": [
    {
     "name": "stdout",
     "output_type": "stream",
     "text": [
      "<class 'pandas.core.frame.DataFrame'>\n",
      "Int64Index: 1698 entries, 151 to 149835\n",
      "Data columns (total 11 columns):\n",
      " #   Column              Non-Null Count  Dtype  \n",
      "---  ------              --------------  -----  \n",
      " 0   Avg RTT             1698 non-null   float64\n",
      " 1   Avg TCP             1698 non-null   float64\n",
      " 2   Avg TP              1698 non-null   float64\n",
      " 3   Experience_score    1698 non-null   float64\n",
      " 4   Session frequency   1698 non-null   float64\n",
      " 5   Total_Data          1698 non-null   float64\n",
      " 6   Dur. (s)            1698 non-null   float64\n",
      " 7   MSISDN/Number       1698 non-null   float64\n",
      " 8   Handset_type        1698 non-null   object \n",
      " 9   Engagement_score    1698 non-null   float64\n",
      " 10  Satisfactory_score  1698 non-null   float64\n",
      "dtypes: float64(10), object(1)\n",
      "memory usage: 159.2+ KB\n"
     ]
    }
   ],
   "source": [
    "df_data.drop('cluster',axis=1, inplace=True)\n",
    "df_data.info()"
   ]
  },
  {
   "cell_type": "code",
   "execution_count": 64,
   "id": "7437e3a6",
   "metadata": {},
   "outputs": [
    {
     "data": {
      "text/plain": [
       "Index(['Avg RTT', 'Avg TCP', 'Avg TP', 'Experience_score', 'Session frequency',\n",
       "       'Total_Data', 'Dur. (s)', 'MSISDN/Number', 'Handset_type',\n",
       "       'Engagement_score', 'Satisfactory_score', 'cluster'],\n",
       "      dtype='object')"
      ]
     },
     "execution_count": 64,
     "metadata": {},
     "output_type": "execute_result"
    }
   ],
   "source": [
    "df_data.columns"
   ]
  },
  {
   "cell_type": "markdown",
   "id": "c4f847f5",
   "metadata": {},
   "source": [
    "Modelling"
   ]
  },
  {
   "cell_type": "code",
   "execution_count": 49,
   "id": "cf7aa1eb",
   "metadata": {},
   "outputs": [
    {
     "name": "stdout",
     "output_type": "stream",
     "text": [
      "(1358, 8) (340, 8) (1358,) (340,)\n"
     ]
    }
   ],
   "source": [
    "from sklearn.model_selection import train_test_split\n",
    "X = df_data.drop(['Satisfactory_score','Handset_type', 'MSISDN/Number'], axis=1)\n",
    "y = df_data.Satisfactory_score\n",
    "X_train, X_val, y_train, y_val = train_test_split(X, y, test_size=0.2, random_state= 0)\n",
    "print(X_train.shape, X_val.shape, y_train.shape, y_val.shape)"
   ]
  },
  {
   "cell_type": "code",
   "execution_count": 50,
   "id": "4065c0ee",
   "metadata": {},
   "outputs": [],
   "source": [
    "from sklearn.linear_model import LinearRegression\n",
    "lr = LinearRegression().fit(X_train, y_train)"
   ]
  },
  {
   "cell_type": "code",
   "execution_count": 51,
   "id": "f1c499c9",
   "metadata": {},
   "outputs": [
    {
     "name": "stdout",
     "output_type": "stream",
     "text": [
      "1.0\n"
     ]
    }
   ],
   "source": [
    "from sklearn.metrics import r2_score\n",
    "pred = lr.predict(X_val)\n",
    "r2 = r2_score(y_val, pred)\n",
    "print(r2)"
   ]
  },
  {
   "cell_type": "code",
   "execution_count": 52,
   "id": "e4dd60fe",
   "metadata": {},
   "outputs": [],
   "source": [
    "km = KMeans(n_clusters=2)\n",
    "preds = km.fit_predict(df_data[['Engagement_score', 'Experience_score']])\n",
    "df_data['cluster']  = preds"
   ]
  },
  {
   "cell_type": "code",
   "execution_count": 53,
   "id": "65facf5e",
   "metadata": {},
   "outputs": [
    {
     "name": "stdout",
     "output_type": "stream",
     "text": [
      "        Satisfactory_score          \n",
      "                    median      mean\n",
      "cluster                             \n",
      "0                 0.670999  0.678418\n",
      "1                 0.286742  0.291556\n",
      "        Experience_score          \n",
      "                  median      mean\n",
      "cluster                           \n",
      "0               0.413983  0.424279\n",
      "1               0.406668  0.404696\n"
     ]
    }
   ],
   "source": [
    "satisfied_per_cluster = df_data.groupby('cluster').agg({'Satisfactory_score':[\"median\",\"mean\"]})\n",
    "experienced_per_cluster = df_data.groupby('cluster').agg({'Experience_score':[\"median\",\"mean\"]})\n",
    "print(satisfied_per_cluster)\n",
    "print(experienced_per_cluster)"
   ]
  },
  {
   "cell_type": "code",
   "execution_count": 55,
   "id": "3f44b79d",
   "metadata": {},
   "outputs": [],
   "source": [
    "final_table = pd.DataFrame()\n",
    "final_table['user_id'] = df_data['MSISDN/Number']"
   ]
  },
  {
   "cell_type": "code",
   "execution_count": 58,
   "id": "49eec424",
   "metadata": {},
   "outputs": [],
   "source": [
    "cols = ['Experience_score','Engagement_score','Satisfactory_score']"
   ]
  },
  {
   "cell_type": "code",
   "execution_count": 59,
   "id": "206247cf",
   "metadata": {},
   "outputs": [],
   "source": [
    "for i in cols:\n",
    "    final_table[i] = df_data[i]"
   ]
  },
  {
   "cell_type": "code",
   "execution_count": 60,
   "id": "9003d748",
   "metadata": {},
   "outputs": [
    {
     "data": {
      "text/html": [
       "<div>\n",
       "<style scoped>\n",
       "    .dataframe tbody tr th:only-of-type {\n",
       "        vertical-align: middle;\n",
       "    }\n",
       "\n",
       "    .dataframe tbody tr th {\n",
       "        vertical-align: top;\n",
       "    }\n",
       "\n",
       "    .dataframe thead th {\n",
       "        text-align: right;\n",
       "    }\n",
       "</style>\n",
       "<table border=\"1\" class=\"dataframe\">\n",
       "  <thead>\n",
       "    <tr style=\"text-align: right;\">\n",
       "      <th></th>\n",
       "      <th>user_id</th>\n",
       "      <th>Experience_score</th>\n",
       "      <th>Engagement_score</th>\n",
       "      <th>Satisfactory_score</th>\n",
       "    </tr>\n",
       "  </thead>\n",
       "  <tbody>\n",
       "    <tr>\n",
       "      <th>151</th>\n",
       "      <td>3.365039e+10</td>\n",
       "      <td>0.422655</td>\n",
       "      <td>0.265614</td>\n",
       "      <td>0.344134</td>\n",
       "    </tr>\n",
       "    <tr>\n",
       "      <th>435</th>\n",
       "      <td>3.366411e+10</td>\n",
       "      <td>0.376428</td>\n",
       "      <td>0.933443</td>\n",
       "      <td>0.654936</td>\n",
       "    </tr>\n",
       "    <tr>\n",
       "      <th>468</th>\n",
       "      <td>3.365856e+10</td>\n",
       "      <td>0.684587</td>\n",
       "      <td>0.871892</td>\n",
       "      <td>0.778239</td>\n",
       "    </tr>\n",
       "    <tr>\n",
       "      <th>472</th>\n",
       "      <td>3.366735e+10</td>\n",
       "      <td>0.539031</td>\n",
       "      <td>0.875386</td>\n",
       "      <td>0.707209</td>\n",
       "    </tr>\n",
       "    <tr>\n",
       "      <th>476</th>\n",
       "      <td>3.366441e+10</td>\n",
       "      <td>0.516551</td>\n",
       "      <td>0.963717</td>\n",
       "      <td>0.740134</td>\n",
       "    </tr>\n",
       "    <tr>\n",
       "      <th>...</th>\n",
       "      <td>...</td>\n",
       "      <td>...</td>\n",
       "      <td>...</td>\n",
       "      <td>...</td>\n",
       "    </tr>\n",
       "    <tr>\n",
       "      <th>149675</th>\n",
       "      <td>3.369974e+10</td>\n",
       "      <td>0.569508</td>\n",
       "      <td>0.934429</td>\n",
       "      <td>0.751969</td>\n",
       "    </tr>\n",
       "    <tr>\n",
       "      <th>149676</th>\n",
       "      <td>3.366393e+10</td>\n",
       "      <td>0.632806</td>\n",
       "      <td>0.161989</td>\n",
       "      <td>0.397397</td>\n",
       "    </tr>\n",
       "    <tr>\n",
       "      <th>149798</th>\n",
       "      <td>3.362215e+10</td>\n",
       "      <td>0.532814</td>\n",
       "      <td>0.897508</td>\n",
       "      <td>0.715161</td>\n",
       "    </tr>\n",
       "    <tr>\n",
       "      <th>149818</th>\n",
       "      <td>3.365976e+10</td>\n",
       "      <td>0.444268</td>\n",
       "      <td>0.942144</td>\n",
       "      <td>0.693206</td>\n",
       "    </tr>\n",
       "    <tr>\n",
       "      <th>149835</th>\n",
       "      <td>3.364493e+10</td>\n",
       "      <td>0.006147</td>\n",
       "      <td>0.899989</td>\n",
       "      <td>0.453068</td>\n",
       "    </tr>\n",
       "  </tbody>\n",
       "</table>\n",
       "<p>1698 rows × 4 columns</p>\n",
       "</div>"
      ],
      "text/plain": [
       "             user_id  Experience_score  Engagement_score  Satisfactory_score\n",
       "151     3.365039e+10          0.422655          0.265614            0.344134\n",
       "435     3.366411e+10          0.376428          0.933443            0.654936\n",
       "468     3.365856e+10          0.684587          0.871892            0.778239\n",
       "472     3.366735e+10          0.539031          0.875386            0.707209\n",
       "476     3.366441e+10          0.516551          0.963717            0.740134\n",
       "...              ...               ...               ...                 ...\n",
       "149675  3.369974e+10          0.569508          0.934429            0.751969\n",
       "149676  3.366393e+10          0.632806          0.161989            0.397397\n",
       "149798  3.362215e+10          0.532814          0.897508            0.715161\n",
       "149818  3.365976e+10          0.444268          0.942144            0.693206\n",
       "149835  3.364493e+10          0.006147          0.899989            0.453068\n",
       "\n",
       "[1698 rows x 4 columns]"
      ]
     },
     "execution_count": 60,
     "metadata": {},
     "output_type": "execute_result"
    }
   ],
   "source": [
    "final_table"
   ]
  },
  {
   "cell_type": "code",
   "execution_count": 61,
   "id": "e29a4092",
   "metadata": {},
   "outputs": [],
   "source": [
    "final_table.to_csv('final_table.csv')"
   ]
  },
  {
   "cell_type": "code",
   "execution_count": 62,
   "id": "28b1fcdc",
   "metadata": {},
   "outputs": [
    {
     "data": {
      "text/plain": [
       "['clf.pkl']"
      ]
     },
     "execution_count": 62,
     "metadata": {},
     "output_type": "execute_result"
    }
   ],
   "source": [
    "import joblib\n",
    "\n",
    "joblib.dump(lr, \"clf.pkl\")"
   ]
  },
  {
   "cell_type": "code",
   "execution_count": null,
   "id": "191464af",
   "metadata": {},
   "outputs": [],
   "source": []
  }
 ],
 "metadata": {
  "kernelspec": {
   "display_name": "Python 3 (ipykernel)",
   "language": "python",
   "name": "python3"
  },
  "language_info": {
   "codemirror_mode": {
    "name": "ipython",
    "version": 3
   },
   "file_extension": ".py",
   "mimetype": "text/x-python",
   "name": "python",
   "nbconvert_exporter": "python",
   "pygments_lexer": "ipython3",
   "version": "3.10.4"
  }
 },
 "nbformat": 4,
 "nbformat_minor": 5
}
