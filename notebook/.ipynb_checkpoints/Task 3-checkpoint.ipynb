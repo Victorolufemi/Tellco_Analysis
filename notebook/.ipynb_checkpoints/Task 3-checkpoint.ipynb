{
 "cells": [
  {
   "cell_type": "code",
   "execution_count": 1,
   "id": "7ae98cf2",
   "metadata": {},
   "outputs": [],
   "source": [
    "import sys\n",
    "import pandas as pd\n",
    "sys.path.append(\"../scripts\")\n",
    "from Eda import Eda as eda\n",
    "from sklearn.cluster import KMeans\n",
    "import seaborn as sns\n",
    "import matplotlib.pyplot as plt\n",
    "import plotly.express as px"
   ]
  },
  {
   "cell_type": "code",
   "execution_count": 2,
   "id": "655fc984",
   "metadata": {},
   "outputs": [],
   "source": [
    "data = pd.read_csv(\"../data/Week1_challenge_data_source.csv\")\n",
    "eda = eda(data)"
   ]
  },
  {
   "cell_type": "code",
   "execution_count": 3,
   "id": "74226560",
   "metadata": {},
   "outputs": [],
   "source": [
    "data = eda.convertbyte_scale(data, '(Bytes)', '(MB)', 1000000)"
   ]
  },
  {
   "cell_type": "code",
   "execution_count": 4,
   "id": "375eed6d",
   "metadata": {},
   "outputs": [],
   "source": [
    "outliers = ['Avg RTT DL (ms)', 'Avg RTT UL (ms)','TCP DL Retrans. Vol (MB)','TCP UL Retrans. Vol (MB)','Avg Bearer TP DL (kbps)','Avg Bearer TP UL (kbps)']\n",
    "data = eda.fix_outlier(data, outliers)"
   ]
  },
  {
   "cell_type": "code",
   "execution_count": 5,
   "id": "c60d9211",
   "metadata": {},
   "outputs": [],
   "source": [
    "df = pd.DataFrame()\n",
    "df['Avg RTT'] = data['Avg RTT DL (ms)'] + data['Avg RTT UL (ms)']\n",
    "df['Avg TCP'] = data['TCP DL Retrans. Vol (MB)'] + data['TCP UL Retrans. Vol (MB)']\n",
    "df['Handset_type'] = data['Handset Type']\n",
    "df['MSISDN/Number'] = data['MSISDN/Number']\n",
    "num_col, cat_col = eda.col_assign(df)\n",
    "df = eda.fix_num_cols(df, num_col)\n",
    "df.dropna(inplace=True)"
   ]
  },
  {
   "cell_type": "code",
   "execution_count": 6,
   "id": "f1403d81",
   "metadata": {},
   "outputs": [
    {
     "name": "stdout",
     "output_type": "stream",
     "text": [
      "<class 'pandas.core.frame.DataFrame'>\n",
      "Int64Index: 149429 entries, 0 to 149999\n",
      "Data columns (total 4 columns):\n",
      " #   Column         Non-Null Count   Dtype  \n",
      "---  ------         --------------   -----  \n",
      " 0   Avg RTT        149429 non-null  float64\n",
      " 1   Avg TCP        149429 non-null  float64\n",
      " 2   Handset_type   149429 non-null  object \n",
      " 3   MSISDN/Number  149429 non-null  float64\n",
      "dtypes: float64(3), object(1)\n",
      "memory usage: 5.7+ MB\n"
     ]
    }
   ],
   "source": [
    "df.info()"
   ]
  },
  {
   "cell_type": "code",
   "execution_count": 7,
   "id": "9519b54d",
   "metadata": {},
   "outputs": [],
   "source": [
    "avgrtt = df.groupby(['MSISDN/Number'],as_index=False).agg({'Avg RTT': 'sum'})"
   ]
  },
  {
   "cell_type": "code",
   "execution_count": 8,
   "id": "9cfe6d07",
   "metadata": {},
   "outputs": [
    {
     "name": "stdout",
     "output_type": "stream",
     "text": [
      "<class 'pandas.core.frame.DataFrame'>\n",
      "RangeIndex: 106857 entries, 0 to 106856\n",
      "Data columns (total 2 columns):\n",
      " #   Column         Non-Null Count   Dtype  \n",
      "---  ------         --------------   -----  \n",
      " 0   MSISDN/Number  106857 non-null  float64\n",
      " 1   Avg RTT        106857 non-null  float64\n",
      "dtypes: float64(2)\n",
      "memory usage: 1.6 MB\n"
     ]
    }
   ],
   "source": [
    "avgrtt.info()"
   ]
  },
  {
   "cell_type": "code",
   "execution_count": 9,
   "id": "0e01299f",
   "metadata": {},
   "outputs": [],
   "source": [
    "avgtcp = df.groupby(['MSISDN/Number'],as_index=False).agg({'Avg TCP': 'sum'})"
   ]
  },
  {
   "cell_type": "code",
   "execution_count": 10,
   "id": "b8fd7caa",
   "metadata": {},
   "outputs": [
    {
     "data": {
      "text/html": [
       "<div>\n",
       "<style scoped>\n",
       "    .dataframe tbody tr th:only-of-type {\n",
       "        vertical-align: middle;\n",
       "    }\n",
       "\n",
       "    .dataframe tbody tr th {\n",
       "        vertical-align: top;\n",
       "    }\n",
       "\n",
       "    .dataframe thead th {\n",
       "        text-align: right;\n",
       "    }\n",
       "</style>\n",
       "<table border=\"1\" class=\"dataframe\">\n",
       "  <thead>\n",
       "    <tr style=\"text-align: right;\">\n",
       "      <th></th>\n",
       "      <th>MSISDN/Number</th>\n",
       "      <th>Avg TCP</th>\n",
       "    </tr>\n",
       "  </thead>\n",
       "  <tbody>\n",
       "    <tr>\n",
       "      <th>0</th>\n",
       "      <td>3.360100e+10</td>\n",
       "      <td>4.825495</td>\n",
       "    </tr>\n",
       "    <tr>\n",
       "      <th>1</th>\n",
       "      <td>3.360100e+10</td>\n",
       "      <td>4.825495</td>\n",
       "    </tr>\n",
       "    <tr>\n",
       "      <th>2</th>\n",
       "      <td>3.360100e+10</td>\n",
       "      <td>4.825495</td>\n",
       "    </tr>\n",
       "    <tr>\n",
       "      <th>3</th>\n",
       "      <td>3.360101e+10</td>\n",
       "      <td>4.825495</td>\n",
       "    </tr>\n",
       "    <tr>\n",
       "      <th>4</th>\n",
       "      <td>3.360101e+10</td>\n",
       "      <td>14.196495</td>\n",
       "    </tr>\n",
       "    <tr>\n",
       "      <th>...</th>\n",
       "      <td>...</td>\n",
       "      <td>...</td>\n",
       "    </tr>\n",
       "    <tr>\n",
       "      <th>106852</th>\n",
       "      <td>3.379000e+10</td>\n",
       "      <td>4.825495</td>\n",
       "    </tr>\n",
       "    <tr>\n",
       "      <th>106853</th>\n",
       "      <td>4.188282e+10</td>\n",
       "      <td>1966.489545</td>\n",
       "    </tr>\n",
       "    <tr>\n",
       "      <th>106854</th>\n",
       "      <td>3.197020e+12</td>\n",
       "      <td>4.825495</td>\n",
       "    </tr>\n",
       "    <tr>\n",
       "      <th>106855</th>\n",
       "      <td>3.370000e+14</td>\n",
       "      <td>4.825495</td>\n",
       "    </tr>\n",
       "    <tr>\n",
       "      <th>106856</th>\n",
       "      <td>8.823970e+14</td>\n",
       "      <td>4.825495</td>\n",
       "    </tr>\n",
       "  </tbody>\n",
       "</table>\n",
       "<p>106857 rows × 2 columns</p>\n",
       "</div>"
      ],
      "text/plain": [
       "        MSISDN/Number      Avg TCP\n",
       "0        3.360100e+10     4.825495\n",
       "1        3.360100e+10     4.825495\n",
       "2        3.360100e+10     4.825495\n",
       "3        3.360101e+10     4.825495\n",
       "4        3.360101e+10    14.196495\n",
       "...               ...          ...\n",
       "106852   3.379000e+10     4.825495\n",
       "106853   4.188282e+10  1966.489545\n",
       "106854   3.197020e+12     4.825495\n",
       "106855   3.370000e+14     4.825495\n",
       "106856   8.823970e+14     4.825495\n",
       "\n",
       "[106857 rows x 2 columns]"
      ]
     },
     "execution_count": 10,
     "metadata": {},
     "output_type": "execute_result"
    }
   ],
   "source": [
    "avgtcp"
   ]
  },
  {
   "cell_type": "code",
   "execution_count": 11,
   "id": "a3781eaa",
   "metadata": {},
   "outputs": [],
   "source": [
    "avghandset = df.groupby(['MSISDN/Number'],as_index=False).agg({'Handset_type': 'count'})"
   ]
  },
  {
   "cell_type": "code",
   "execution_count": 12,
   "id": "982ec507",
   "metadata": {},
   "outputs": [
    {
     "data": {
      "text/html": [
       "<div>\n",
       "<style scoped>\n",
       "    .dataframe tbody tr th:only-of-type {\n",
       "        vertical-align: middle;\n",
       "    }\n",
       "\n",
       "    .dataframe tbody tr th {\n",
       "        vertical-align: top;\n",
       "    }\n",
       "\n",
       "    .dataframe thead th {\n",
       "        text-align: right;\n",
       "    }\n",
       "</style>\n",
       "<table border=\"1\" class=\"dataframe\">\n",
       "  <thead>\n",
       "    <tr style=\"text-align: right;\">\n",
       "      <th></th>\n",
       "      <th>MSISDN/Number</th>\n",
       "      <th>Handset_type</th>\n",
       "    </tr>\n",
       "  </thead>\n",
       "  <tbody>\n",
       "    <tr>\n",
       "      <th>0</th>\n",
       "      <td>3.360100e+10</td>\n",
       "      <td>1</td>\n",
       "    </tr>\n",
       "    <tr>\n",
       "      <th>1</th>\n",
       "      <td>3.360100e+10</td>\n",
       "      <td>1</td>\n",
       "    </tr>\n",
       "    <tr>\n",
       "      <th>2</th>\n",
       "      <td>3.360100e+10</td>\n",
       "      <td>1</td>\n",
       "    </tr>\n",
       "    <tr>\n",
       "      <th>3</th>\n",
       "      <td>3.360101e+10</td>\n",
       "      <td>1</td>\n",
       "    </tr>\n",
       "    <tr>\n",
       "      <th>4</th>\n",
       "      <td>3.360101e+10</td>\n",
       "      <td>2</td>\n",
       "    </tr>\n",
       "    <tr>\n",
       "      <th>...</th>\n",
       "      <td>...</td>\n",
       "      <td>...</td>\n",
       "    </tr>\n",
       "    <tr>\n",
       "      <th>106852</th>\n",
       "      <td>3.379000e+10</td>\n",
       "      <td>1</td>\n",
       "    </tr>\n",
       "    <tr>\n",
       "      <th>106853</th>\n",
       "      <td>4.188282e+10</td>\n",
       "      <td>494</td>\n",
       "    </tr>\n",
       "    <tr>\n",
       "      <th>106854</th>\n",
       "      <td>3.197020e+12</td>\n",
       "      <td>1</td>\n",
       "    </tr>\n",
       "    <tr>\n",
       "      <th>106855</th>\n",
       "      <td>3.370000e+14</td>\n",
       "      <td>1</td>\n",
       "    </tr>\n",
       "    <tr>\n",
       "      <th>106856</th>\n",
       "      <td>8.823970e+14</td>\n",
       "      <td>1</td>\n",
       "    </tr>\n",
       "  </tbody>\n",
       "</table>\n",
       "<p>106857 rows × 2 columns</p>\n",
       "</div>"
      ],
      "text/plain": [
       "        MSISDN/Number  Handset_type\n",
       "0        3.360100e+10             1\n",
       "1        3.360100e+10             1\n",
       "2        3.360100e+10             1\n",
       "3        3.360101e+10             1\n",
       "4        3.360101e+10             2\n",
       "...               ...           ...\n",
       "106852   3.379000e+10             1\n",
       "106853   4.188282e+10           494\n",
       "106854   3.197020e+12             1\n",
       "106855   3.370000e+14             1\n",
       "106856   8.823970e+14             1\n",
       "\n",
       "[106857 rows x 2 columns]"
      ]
     },
     "execution_count": 12,
     "metadata": {},
     "output_type": "execute_result"
    }
   ],
   "source": [
    "avghandset"
   ]
  },
  {
   "cell_type": "code",
   "execution_count": null,
   "id": "e946e932",
   "metadata": {},
   "outputs": [],
   "source": []
  }
 ],
 "metadata": {
  "kernelspec": {
   "display_name": "Python 3 (ipykernel)",
   "language": "python",
   "name": "python3"
  },
  "language_info": {
   "codemirror_mode": {
    "name": "ipython",
    "version": 3
   },
   "file_extension": ".py",
   "mimetype": "text/x-python",
   "name": "python",
   "nbconvert_exporter": "python",
   "pygments_lexer": "ipython3",
   "version": "3.10.4"
  }
 },
 "nbformat": 4,
 "nbformat_minor": 5
}
